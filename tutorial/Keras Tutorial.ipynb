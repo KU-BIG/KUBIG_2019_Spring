{
 "cells": [
  {
   "cell_type": "markdown",
   "metadata": {
    "toc": true
   },
   "source": [
    "<h1>Table of Contents<span class=\"tocSkip\"></span></h1>\n",
    "<div class=\"toc\"><ul class=\"toc-item\"><li><span><a href=\"#Keras-Tutorial\" data-toc-modified-id=\"Keras-Tutorial-1\"><span class=\"toc-item-num\">1&nbsp;&nbsp;</span>Keras Tutorial</a></span></li><li><span><a href=\"#Set-constants\" data-toc-modified-id=\"Set-constants-2\"><span class=\"toc-item-num\">2&nbsp;&nbsp;</span>Set constants</a></span></li><li><span><a href=\"#Load-Data\" data-toc-modified-id=\"Load-Data-3\"><span class=\"toc-item-num\">3&nbsp;&nbsp;</span>Load Data</a></span></li><li><span><a href=\"#Build-Model\" data-toc-modified-id=\"Build-Model-4\"><span class=\"toc-item-num\">4&nbsp;&nbsp;</span>Build Model</a></span></li><li><span><a href=\"#Train-model\" data-toc-modified-id=\"Train-model-5\"><span class=\"toc-item-num\">5&nbsp;&nbsp;</span>Train model</a></span></li><li><span><a href=\"#Load-model\" data-toc-modified-id=\"Load-model-6\"><span class=\"toc-item-num\">6&nbsp;&nbsp;</span>Load model</a></span></li><li><span><a href=\"#See-Training-History\" data-toc-modified-id=\"See-Training-History-7\"><span class=\"toc-item-num\">7&nbsp;&nbsp;</span>See Training History</a></span></li><li><span><a href=\"#Evaluate-model\" data-toc-modified-id=\"Evaluate-model-8\"><span class=\"toc-item-num\">8&nbsp;&nbsp;</span>Evaluate model</a></span></li></ul></div>"
   ]
  },
  {
   "cell_type": "markdown",
   "metadata": {},
   "source": [
    "# Keras Tutorial\n",
    "- **Problem** : Image Classification\n",
    "- **Description** : Given Dog/Cats/Frogs dataset, build a classification model which distinguishes animal\n",
    "- **Dataset** : 6000 Images (28x28, rgb color)\n",
    "- **Requirements**\n",
    "    - Divide train/validation set for training, evaluation by your own.\n",
    "    - Provide evaluation score of train/validation set respectively.\n",
    "- **Evaluation Metric**\n",
    "    - You should select an appropriate metric, and evaluate your model on it."
   ]
  },
  {
   "cell_type": "code",
   "execution_count": 1,
   "metadata": {},
   "outputs": [
    {
     "name": "stderr",
     "output_type": "stream",
     "text": [
      "Using TensorFlow backend.\n"
     ]
    }
   ],
   "source": [
    "import os\n",
    "import numpy as np\n",
    "import matplotlib.pyplot as plt\n",
    "\n",
    "from keras.models import Sequential, Model, load_model\n",
    "from keras.layers import Dense, Activation, Conv2D, Flatten, BatchNormalization, MaxPooling2D, Dropout\n",
    "from keras import Input\n",
    "from keras.utils import to_categorical\n",
    "from keras.callbacks import ModelCheckpoint\n",
    "\n",
    "from sklearn.metrics import accuracy_score"
   ]
  },
  {
   "cell_type": "code",
   "execution_count": 2,
   "metadata": {},
   "outputs": [],
   "source": [
    "np.set_printoptions(suppress=True)"
   ]
  },
  {
   "cell_type": "markdown",
   "metadata": {},
   "source": [
    "# Set constants"
   ]
  },
  {
   "cell_type": "code",
   "execution_count": 3,
   "metadata": {},
   "outputs": [],
   "source": [
    "img_rows, img_cols = 32, 32\n",
    "batch_size = 25\n",
    "epochs = 40\n",
    "num_classes = 3\n",
    "input_shape = (img_rows, img_cols, 3)"
   ]
  },
  {
   "cell_type": "markdown",
   "metadata": {},
   "source": [
    "# Load Data\n",
    "\n",
    "- Load day from .npz file (numpy object)\n",
    "- Generally faster than .xlsx file"
   ]
  },
  {
   "cell_type": "code",
   "execution_count": 4,
   "metadata": {
    "scrolled": true
   },
   "outputs": [
    {
     "name": "stdout",
     "output_type": "stream",
     "text": [
      "* fh.files :  ['data_x', 'data_y', 'test_x', 'category']\n",
      "* data shape :  (6000, 3, 32, 32) (6000,) (300, 3, 32, 32)\n",
      "* reshaped :  (6000, 32, 32, 3) (6000,) (300, 32, 32, 3)\n",
      "* train data shape :  (5400, 32, 32, 3) (5400,)\n",
      "* validation data shape :  (600, 32, 32, 3) (600,)\n",
      "* one-hot vecotor encoded shape :  (5400, 3) (600, 3)\n"
     ]
    }
   ],
   "source": [
    "path = os.path.abspath(os.path.join(os.getcwd(), 'data', 'img_dataset.npz'))\n",
    "\n",
    "with np.load(path) as fh :\n",
    "    print('* fh.files : ', fh.files)\n",
    "    data_x = fh['data_x']\n",
    "    data_y = fh['data_y']\n",
    "    test_x = fh['test_x']\n",
    "    print('* data shape : ', data_x.shape, data_y.shape, test_x.shape)\n",
    "    \n",
    "    # Image Channel (RGB) should be at last position\n",
    "    data_x = np.transpose(data_x, (0,2,3,1))\n",
    "    test_x = np.transpose(test_x, (0,2,3,1))\n",
    "    print('* reshaped : ', data_x.shape, data_y.shape, test_x.shape)\n",
    "    \n",
    "    # Shuffle/Divide Train/Validation Set\n",
    "    number_datapoints = data_x.shape[0]\n",
    "    indices = np.arange(number_datapoints)\n",
    "    np.random.shuffle(indices)\n",
    "    length_train = int(number_datapoints*0.9)\n",
    "    lenght_vali = number_datapoints - length_train\n",
    "    \n",
    "    x_train = data_x[indices[:length_train]]\n",
    "    y_train = data_y[indices[:length_train]]\n",
    "    x_vali = data_x[indices[length_train:]]\n",
    "    y_vali = data_y[indices[length_train:]]\n",
    "    print('* train data shape : ', x_train.shape, y_train.shape)\n",
    "    print('* validation data shape : ', x_vali.shape, y_vali.shape)\n",
    "    \n",
    "    # Transform y as one-hot vector\n",
    "    y_train = to_categorical(y_train, num_classes)\n",
    "    y_vali = to_categorical(y_vali, num_classes)\n",
    "    print('* one-hot vecotor encoded shape : ', y_train.shape, y_vali.shape)  "
   ]
  },
  {
   "cell_type": "code",
   "execution_count": 5,
   "metadata": {},
   "outputs": [
    {
     "data": {
      "image/png": "[encoded data removed]",
      "text/plain": [
       "<Figure size 432x288 with 1 Axes>"
      ]
     },
     "metadata": {
      "needs_background": "light"
     },
     "output_type": "display_data"
    },
    {
     "name": "stdout",
     "output_type": "stream",
     "text": [
      "[1. 0. 0.]\n"
     ]
    }
   ],
   "source": [
    "plt.imshow(x_train[0], interpolation='nearest')\n",
    "plt.show()\n",
    "print(y_train[0])"
   ]
  },
  {
   "cell_type": "code",
   "execution_count": 6,
   "metadata": {},
   "outputs": [
    {
     "data": {
      "image/png": "[encoded data removed]",
      "text/plain": [
       "<Figure size 432x288 with 1 Axes>"
      ]
     },
     "metadata": {
      "needs_background": "light"
     },
     "output_type": "display_data"
    },
    {
     "name": "stdout",
     "output_type": "stream",
     "text": [
      "[0. 1. 0.]\n"
     ]
    }
   ],
   "source": [
    "plt.imshow(x_vali[0], interpolation='nearest')\n",
    "plt.show()\n",
    "print(y_vali[0])"
   ]
  },
  {
   "cell_type": "code",
   "execution_count": 7,
   "metadata": {},
   "outputs": [
    {
     "data": {
      "image/png": "[encoded data removed]",
      "text/plain": [
       "<Figure size 432x288 with 1 Axes>"
      ]
     },
     "metadata": {
      "needs_background": "light"
     },
     "output_type": "display_data"
    },
    {
     "name": "stdout",
     "output_type": "stream",
     "text": [
      "[0. 0. 1.]\n"
     ]
    }
   ],
   "source": [
    "plt.imshow(x_vali[4], interpolation='nearest')\n",
    "plt.show()\n",
    "print(y_vali[4])"
   ]
  },
  {
   "cell_type": "markdown",
   "metadata": {},
   "source": [
    "# Build Model"
   ]
  },
  {
   "cell_type": "code",
   "execution_count": 8,
   "metadata": {},
   "outputs": [
    {
     "name": "stdout",
     "output_type": "stream",
     "text": [
      "_________________________________________________________________\n",
      "Layer (type)                 Output Shape              Param #   \n",
      "=================================================================\n",
      "conv2d_1 (Conv2D)            (None, 32, 32, 32)        896       \n",
      "_________________________________________________________________\n",
      "max_pooling2d_1 (MaxPooling2 (None, 16, 16, 32)        0         \n",
      "_________________________________________________________________\n",
      "conv2d_2 (Conv2D)            (None, 14, 14, 32)        9248      \n",
      "_________________________________________________________________\n",
      "max_pooling2d_2 (MaxPooling2 (None, 7, 7, 32)          0         \n",
      "_________________________________________________________________\n",
      "conv2d_3 (Conv2D)            (None, 5, 5, 64)          18496     \n",
      "_________________________________________________________________\n",
      "max_pooling2d_3 (MaxPooling2 (None, 2, 2, 64)          0         \n",
      "_________________________________________________________________\n",
      "flatten_1 (Flatten)          (None, 256)               0         \n",
      "_________________________________________________________________\n",
      "dense_1 (Dense)              (None, 64)                16448     \n",
      "_________________________________________________________________\n",
      "dropout_1 (Dropout)          (None, 64)                0         \n",
      "_________________________________________________________________\n",
      "dense_2 (Dense)              (None, 3)                 195       \n",
      "=================================================================\n",
      "Total params: 45,283\n",
      "Trainable params: 45,283\n",
      "Non-trainable params: 0\n",
      "_________________________________________________________________\n"
     ]
    }
   ],
   "source": [
    "model = Sequential()\n",
    "model.add(Conv2D(32, (3, 3), padding='same', input_shape=input_shape, activation='relu'))\n",
    "model.add(MaxPooling2D(pool_size=(2,2)))\n",
    "\n",
    "model.add(Conv2D(32, (3, 3), activation='relu'))\n",
    "model.add(MaxPooling2D(pool_size=(2,2)))\n",
    "\n",
    "model.add(Conv2D(64, (3,3), activation='relu'))\n",
    "model.add(MaxPooling2D(pool_size=(2,2)))\n",
    "\n",
    "model.add(Flatten())\n",
    "model.add(Dense(64, activation='relu'))\n",
    "model.add(Dropout(0.5))\n",
    "model.add(Dense(num_classes, activation='softmax'))\n",
    "model.summary()"
   ]
  },
  {
   "cell_type": "markdown",
   "metadata": {},
   "source": [
    "# Train model\n",
    "- Save the best model during the training"
   ]
  },
  {
   "cell_type": "code",
   "execution_count": 9,
   "metadata": {
    "scrolled": true
   },
   "outputs": [
    {
     "name": "stdout",
     "output_type": "stream",
     "text": [
      "Train on 5400 samples, validate on 600 samples\n",
      "Epoch 1/40\n",
      "5400/5400 [==============================] - 12s 2ms/step - loss: 0.5943 - acc: 0.6846 - val_loss: 0.5340 - val_acc: 0.7156\n",
      "Epoch 2/40\n",
      "5400/5400 [==============================] - 13s 2ms/step - loss: 0.5184 - acc: 0.7309 - val_loss: 0.4887 - val_acc: 0.7489\n",
      "Epoch 3/40\n",
      "5400/5400 [==============================] - 10s 2ms/step - loss: 0.4851 - acc: 0.7499 - val_loss: 0.4777 - val_acc: 0.7456\n",
      "Epoch 4/40\n",
      "5400/5400 [==============================] - 11s 2ms/step - loss: 0.4647 - acc: 0.7656 - val_loss: 0.4948 - val_acc: 0.7394\n",
      "Epoch 5/40\n",
      "5400/5400 [==============================] - 12s 2ms/step - loss: 0.4433 - acc: 0.7801 - val_loss: 0.4376 - val_acc: 0.7744\n",
      "Epoch 6/40\n",
      "5400/5400 [==============================] - 11s 2ms/step - loss: 0.4211 - acc: 0.7909 - val_loss: 0.4193 - val_acc: 0.7844\n",
      "Epoch 7/40\n",
      "5400/5400 [==============================] - 12s 2ms/step - loss: 0.4136 - acc: 0.7983 - val_loss: 0.4186 - val_acc: 0.7839\n",
      "Epoch 8/40\n",
      "5400/5400 [==============================] - 13s 2ms/step - loss: 0.3921 - acc: 0.8120 - val_loss: 0.4242 - val_acc: 0.7956\n",
      "Epoch 9/40\n",
      "5400/5400 [==============================] - 9s 2ms/step - loss: 0.3652 - acc: 0.8302 - val_loss: 0.4105 - val_acc: 0.7967\n",
      "Epoch 10/40\n",
      "5400/5400 [==============================] - 11s 2ms/step - loss: 0.3547 - acc: 0.8378 - val_loss: 0.4555 - val_acc: 0.7683\n",
      "Epoch 11/40\n",
      "5400/5400 [==============================] - 10s 2ms/step - loss: 0.3293 - acc: 0.8519 - val_loss: 0.3945 - val_acc: 0.8100\n",
      "Epoch 12/40\n",
      "5400/5400 [==============================] - 13s 2ms/step - loss: 0.3109 - acc: 0.8614 - val_loss: 0.3999 - val_acc: 0.8061\n",
      "Epoch 13/40\n",
      "5400/5400 [==============================] - 9s 2ms/step - loss: 0.2913 - acc: 0.8769 - val_loss: 0.3999 - val_acc: 0.8061\n",
      "Epoch 14/40\n",
      "5400/5400 [==============================] - 10s 2ms/step - loss: 0.2715 - acc: 0.8852 - val_loss: 0.4387 - val_acc: 0.7978\n",
      "Epoch 15/40\n",
      "5400/5400 [==============================] - 9s 2ms/step - loss: 0.2434 - acc: 0.8972 - val_loss: 0.4591 - val_acc: 0.7989\n",
      "Epoch 16/40\n",
      "5400/5400 [==============================] - 9s 2ms/step - loss: 0.2309 - acc: 0.9040 - val_loss: 0.4715 - val_acc: 0.8033\n",
      "Epoch 17/40\n",
      "5400/5400 [==============================] - 8s 2ms/step - loss: 0.2035 - acc: 0.9171 - val_loss: 0.5191 - val_acc: 0.8078\n",
      "Epoch 18/40\n",
      "5400/5400 [==============================] - 11s 2ms/step - loss: 0.1889 - acc: 0.9243 - val_loss: 0.5349 - val_acc: 0.8067\n",
      "Epoch 19/40\n",
      "5400/5400 [==============================] - 11s 2ms/step - loss: 0.1725 - acc: 0.9320 - val_loss: 0.5619 - val_acc: 0.7872\n",
      "Epoch 20/40\n",
      "5400/5400 [==============================] - 11s 2ms/step - loss: 0.1661 - acc: 0.9375 - val_loss: 0.5480 - val_acc: 0.7883\n",
      "Epoch 21/40\n",
      "5400/5400 [==============================] - 12s 2ms/step - loss: 0.1452 - acc: 0.9441 - val_loss: 0.6929 - val_acc: 0.7550\n",
      "Epoch 22/40\n",
      "5400/5400 [==============================] - 10s 2ms/step - loss: 0.1326 - acc: 0.9481 - val_loss: 0.6615 - val_acc: 0.8039\n",
      "Epoch 23/40\n",
      "5400/5400 [==============================] - 16s 3ms/step - loss: 0.1158 - acc: 0.9543 - val_loss: 0.6505 - val_acc: 0.8078\n",
      "Epoch 24/40\n",
      "5400/5400 [==============================] - 10s 2ms/step - loss: 0.1148 - acc: 0.9580 - val_loss: 0.6916 - val_acc: 0.7889\n",
      "Epoch 25/40\n",
      "5400/5400 [==============================] - 10s 2ms/step - loss: 0.0978 - acc: 0.9628 - val_loss: 0.7988 - val_acc: 0.7933\n",
      "Epoch 26/40\n",
      "5400/5400 [==============================] - 14s 3ms/step - loss: 0.1007 - acc: 0.9622 - val_loss: 0.8765 - val_acc: 0.7894\n",
      "Epoch 27/40\n",
      "5400/5400 [==============================] - 11s 2ms/step - loss: 0.0866 - acc: 0.9695 - val_loss: 0.8519 - val_acc: 0.8022\n",
      "Epoch 28/40\n",
      "5400/5400 [==============================] - 10s 2ms/step - loss: 0.0986 - acc: 0.9625 - val_loss: 0.9594 - val_acc: 0.7917\n",
      "Epoch 29/40\n",
      "5400/5400 [==============================] - 10s 2ms/step - loss: 0.0793 - acc: 0.9700 - val_loss: 0.9175 - val_acc: 0.7889\n",
      "Epoch 30/40\n",
      "5400/5400 [==============================] - 11s 2ms/step - loss: 0.0652 - acc: 0.9759 - val_loss: 0.9650 - val_acc: 0.7994\n",
      "Epoch 31/40\n",
      "5400/5400 [==============================] - 9s 2ms/step - loss: 0.0800 - acc: 0.9698 - val_loss: 0.9034 - val_acc: 0.7806\n",
      "Epoch 32/40\n",
      "5400/5400 [==============================] - 12s 2ms/step - loss: 0.0651 - acc: 0.9784 - val_loss: 0.9463 - val_acc: 0.7872\n",
      "Epoch 33/40\n",
      "5400/5400 [==============================] - 11s 2ms/step - loss: 0.0540 - acc: 0.9808 - val_loss: 0.9163 - val_acc: 0.8006\n",
      "Epoch 34/40\n",
      "5400/5400 [==============================] - 10s 2ms/step - loss: 0.0625 - acc: 0.9750 - val_loss: 0.9373 - val_acc: 0.8011\n",
      "Epoch 35/40\n",
      "5400/5400 [==============================] - 8s 2ms/step - loss: 0.0622 - acc: 0.9762 - val_loss: 0.9893 - val_acc: 0.7961\n",
      "Epoch 36/40\n",
      "5400/5400 [==============================] - 8s 2ms/step - loss: 0.0598 - acc: 0.9796 - val_loss: 1.0690 - val_acc: 0.7978\n",
      "Epoch 37/40\n",
      "5400/5400 [==============================] - 9s 2ms/step - loss: 0.0602 - acc: 0.9766 - val_loss: 1.0554 - val_acc: 0.8061\n",
      "Epoch 38/40\n",
      "5400/5400 [==============================] - 10s 2ms/step - loss: 0.0463 - acc: 0.9848 - val_loss: 1.1701 - val_acc: 0.7989\n",
      "Epoch 39/40\n",
      "5400/5400 [==============================] - 8s 2ms/step - loss: 0.0635 - acc: 0.9783 - val_loss: 1.1688 - val_acc: 0.7894\n",
      "Epoch 40/40\n",
      "5400/5400 [==============================] - 8s 2ms/step - loss: 0.0482 - acc: 0.9817 - val_loss: 1.1213 - val_acc: 0.8044\n"
     ]
    }
   ],
   "source": [
    "model.compile(loss='binary_crossentropy',\n",
    "             optimizer='adam',\n",
    "             metrics=['accuracy'])\n",
    "\n",
    "path_model = 'best_model.h5'\n",
    "modelcheckpoint = ModelCheckpoint(path_model, monitor='val_loss', save_best_only=True)\n",
    "\n",
    "hist = model.fit(x_train, y_train,\n",
    "                epochs=epochs,\n",
    "                batch_size=16,\n",
    "                validation_data=(x_vali, y_vali),\n",
    "                callbacks=[modelcheckpoint])"
   ]
  },
  {
   "cell_type": "markdown",
   "metadata": {},
   "source": [
    "# Load model\n",
    "- Load the best model which showed lowest validation loss during the training"
   ]
  },
  {
   "cell_type": "code",
   "execution_count": 10,
   "metadata": {},
   "outputs": [],
   "source": [
    "model = load_model('best_model.h5')"
   ]
  },
  {
   "cell_type": "markdown",
   "metadata": {},
   "source": [
    "# See Training History"
   ]
  },
  {
   "cell_type": "code",
   "execution_count": 11,
   "metadata": {},
   "outputs": [
    {
     "data": {
      "image/png": "[encoded data removed]",
      "text/plain": [
       "<Figure size 432x288 with 2 Axes>"
      ]
     },
     "metadata": {
      "needs_background": "light"
     },
     "output_type": "display_data"
    }
   ],
   "source": [
    "fig, loss_ax = plt.subplots()\n",
    "acc_ax = loss_ax.twinx()\n",
    "\n",
    "loss_ax.plot(hist.history['loss'], 'y', label='train loss')\n",
    "loss_ax.plot(hist.history['val_loss'], 'r', label='val loss')\n",
    "loss_ax.set_xlabel('epoch')\n",
    "loss_ax.set_ylabel('loss')\n",
    "loss_ax.legend(loc='upper left')\n",
    "\n",
    "acc_ax.plot(hist.history['acc'], 'b', label='train acc')\n",
    "acc_ax.plot(hist.history['val_acc'], 'g', label='val acc')\n",
    "acc_ax.set_ylabel('accuracy')\n",
    "acc_ax.legend(loc='lower left')\n",
    "\n",
    "plt.show()"
   ]
  },
  {
   "cell_type": "markdown",
   "metadata": {},
   "source": [
    "# Evaluate model"
   ]
  },
  {
   "cell_type": "code",
   "execution_count": 12,
   "metadata": {},
   "outputs": [
    {
     "name": "stdout",
     "output_type": "stream",
     "text": [
      "Validation set Loss : 0.39\n",
      "Validation set Accuracy : 0.81\n"
     ]
    }
   ],
   "source": [
    "scores = model.evaluate(x_vali, y_vali, verbose=0)\n",
    "print('Validation set Loss : %.2f' % (scores[0]))\n",
    "print('Validation set Accuracy : %.2f' % (scores[1]))"
   ]
  },
  {
   "cell_type": "code",
   "execution_count": 13,
   "metadata": {},
   "outputs": [],
   "source": [
    "yhat_vali = model.predict(x_vali)"
   ]
  },
  {
   "cell_type": "code",
   "execution_count": 14,
   "metadata": {},
   "outputs": [
    {
     "data": {
      "image/png": "[encoded data removed]",
      "text/plain": [
       "<Figure size 432x288 with 1 Axes>"
      ]
     },
     "metadata": {
      "needs_background": "light"
     },
     "output_type": "display_data"
    },
    {
     "name": "stdout",
     "output_type": "stream",
     "text": [
      "[0. 0. 1.]\n",
      "[0.28703704 0.0204641  0.6924988 ]\n"
     ]
    }
   ],
   "source": [
    "plt.imshow(x_vali[4], interpolation='nearest')\n",
    "plt.show()\n",
    "print(y_vali[4])\n",
    "print(yhat_vali[4])"
   ]
  },
  {
   "cell_type": "code",
   "execution_count": 15,
   "metadata": {},
   "outputs": [
    {
     "data": {
      "image/png": "[encoded data removed]",
      "text/plain": [
       "<Figure size 432x288 with 1 Axes>"
      ]
     },
     "metadata": {
      "needs_background": "light"
     },
     "output_type": "display_data"
    },
    {
     "name": "stdout",
     "output_type": "stream",
     "text": [
      "[0. 0. 1.]\n",
      "[0.3452678  0.13840723 0.51632494]\n"
     ]
    }
   ],
   "source": [
    "plt.imshow(x_vali[5], interpolation='nearest')\n",
    "plt.show()\n",
    "print(y_vali[5])\n",
    "print(yhat_vali[5])"
   ]
  },
  {
   "cell_type": "code",
   "execution_count": 16,
   "metadata": {},
   "outputs": [
    {
     "data": {
      "image/png": "[encoded data removed]",
      "text/plain": [
       "<Figure size 432x288 with 1 Axes>"
      ]
     },
     "metadata": {
      "needs_background": "light"
     },
     "output_type": "display_data"
    },
    {
     "name": "stdout",
     "output_type": "stream",
     "text": [
      "[0. 0. 1.]\n",
      "[0.00006889 0.00000044 0.9999306 ]\n"
     ]
    }
   ],
   "source": [
    "plt.imshow(x_vali[7], interpolation='nearest')\n",
    "plt.show()\n",
    "print(y_vali[7])\n",
    "print(yhat_vali[7])"
   ]
  }
 ],
 "metadata": {
  "kernelspec": {
   "display_name": "Python 3",
   "language": "python",
   "name": "python3"
  },
  "language_info": {
   "codemirror_mode": {
    "name": "ipython",
    "version": 3
   },
   "file_extension": ".py",
   "mimetype": "text/x-python",
   "name": "python",
   "nbconvert_exporter": "python",
   "pygments_lexer": "ipython3",
   "version": "3.6.7"
  },
  "toc": {
   "base_numbering": 1,
   "nav_menu": {},
   "number_sections": true,
   "sideBar": true,
   "skip_h1_title": false,
   "title_cell": "Table of Contents",
   "title_sidebar": "Contents",
   "toc_cell": true,
   "toc_position": {},
   "toc_section_display": true,
   "toc_window_display": true
  },
  "varInspector": {
   "cols": {
    "lenName": 16,
    "lenType": 16,
    "lenVar": 40
   },
   "kernels_config": {
    "python": {
     "delete_cmd_postfix": "",
     "delete_cmd_prefix": "del ",
     "library": "var_list.py",
     "varRefreshCmd": "print(var_dic_list())"
    },
    "r": {
     "delete_cmd_postfix": ") ",
     "delete_cmd_prefix": "rm(",
     "library": "var_list.r",
     "varRefreshCmd": "cat(var_dic_list()) "
    }
   },
   "types_to_exclude": [
    "module",
    "function",
    "builtin_function_or_method",
    "instance",
    "_Feature"
   ],
   "window_display": false
  }
 },
 "nbformat": 4,
 "nbformat_minor": 2
}
