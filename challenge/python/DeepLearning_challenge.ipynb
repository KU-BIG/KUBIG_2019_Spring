{
 "cells": [
  {
   "cell_type": "markdown",
   "metadata": {},
   "source": [
    "# Tutorial- Deep Learning Using Keras, Python"
   ]
  },
  {
   "cell_type": "markdown",
   "metadata": {},
   "source": [
    "# 1. 데이터 전처리 파트 "
   ]
  },
  {
   "cell_type": "code",
   "execution_count": null,
   "metadata": {},
   "outputs": [],
   "source": [
    "%reset"
   ]
  },
  {
   "cell_type": "code",
   "execution_count": null,
   "metadata": {},
   "outputs": [],
   "source": [
    "from keras.datasets import mnist #MNIST "
   ]
  },
  {
   "cell_type": "markdown",
   "metadata": {},
   "source": [
    "0) Train/Test set의 images(X:픽셀값들) / labels(Y:실제 라벨:0~9) 따로 저장"
   ]
  },
  {
   "cell_type": "code",
   "execution_count": null,
   "metadata": {},
   "outputs": [],
   "source": [
    "(train_images, train_labels), (test_images, test_labels)= mnist.load_data()"
   ]
  },
  {
   "cell_type": "markdown",
   "metadata": {},
   "source": [
    "1) MNIST Training set의 5번째 이미지- python은 0부터 셈 ,  픽셀값 확인 해봄 ( 28 BY 28 이고, 픽셀값이 클수록 해당 부분이 진한 것이다. )"
   ]
  },
  {
   "cell_type": "markdown",
   "metadata": {},
   "source": [
    "# 2. 모델링(학습과정, 4-layer network, softmax classifier : 분류 문제)\n",
    "- 픽셀값들을 기반으로, 어느 부분이 진한지를 확인해서, 이 숫자가 0~9부터 어느 숫자일 것인지를 예측하는 모델을 만들어보자"
   ]
  },
  {
   "cell_type": "markdown",
   "metadata": {},
   "source": [
    "0)  입력층, 은닉층, 출력층, 총 3개 레이어 짜리 네트워크를 구성하기 위한 패키지 import"
   ]
  },
  {
   "cell_type": "markdown",
   "metadata": {},
   "source": [
    "1) 네트워크 정의, input_shape: 28*28(mnist), 출력층의 노드수: 10개(0부터 9까지를 분류하는 네트워크이므로)"
   ]
  },
  {
   "cell_type": "markdown",
   "metadata": {},
   "source": [
    "loss function(학습에 이용할 손실함수 정의): categorical_crossentropy, optimizer(최적화 방식): rmsprop, 학습중 보여줄 지표: accuracy"
   ]
  },
  {
   "cell_type": "markdown",
   "metadata": {},
   "source": [
    "2) 모델에 맞게 전처리\n",
    "- Hidden layer의 input_shape에 맞게 28*28로 reshape, Training sample은 6만개, Test sample은 1만개\n",
    "- 뉴럴 네트워크는 scale에 민감하기 때문에, scaling 필요함 - 픽셀별로 진하기를 표현하기 위해, 0부터 255까지 값을 갖는데, 255로 나눠서 0부터 1 사이의 값들로 모두 Scaling 해줌"
   ]
  },
  {
   "cell_type": "markdown",
   "metadata": {},
   "source": [
    "3) Y 변수: label(0~9)에 대해, one-hot encoding을 해줘야함 - 케라스 특징"
   ]
  },
  {
   "cell_type": "markdown",
   "metadata": {},
   "source": [
    "4) fit은 학습을 진행하라는 의미, train_images: X(픽셀값들), train_labels: Y(0~9), \n",
    "batch size: 60,000개 중 128개씩 나눠서 학습, \n",
    "    epoch: 60,000개 전부 학습을 5번 반복\n",
    "- 참고: 1. batch size =128 (미니배치방법) 나눠서 학습 , 2. 배치방법:한꺼번에 모든 샘플 한꺼번에 학습, 3. sgd: 확률적으로 1개씩 학습"
   ]
  },
  {
   "cell_type": "markdown",
   "metadata": {},
   "source": [
    "# 3. 모델 검증(Using test set, by accuracy)"
   ]
  },
  {
   "cell_type": "markdown",
   "metadata": {},
   "source": [
    "0) 위에서 학습시킨 'network'라는 모델을, 미리 정의해둔 test_images(new X), test_labels(new Y)로 모델 검증 "
   ]
  }
 ],
 "metadata": {
  "kernelspec": {
   "display_name": "Python 3",
   "language": "python",
   "name": "python3"
  },
  "language_info": {
   "codemirror_mode": {
    "name": "ipython",
    "version": 3
   },
   "file_extension": ".py",
   "mimetype": "text/x-python",
   "name": "python",
   "nbconvert_exporter": "python",
   "pygments_lexer": "ipython3",
   "version": "3.6.5"
  }
 },
 "nbformat": 4,
 "nbformat_minor": 2
}
